{
 "cells": [
  {
   "cell_type": "code",
   "execution_count": 1,
   "metadata": {},
   "outputs": [
    {
     "name": "stderr",
     "output_type": "stream",
     "text": [
      "Using Theano backend.\n"
     ]
    }
   ],
   "source": [
    "# Import the necessary modules\n",
    "import numpy as np\n",
    "from keras.layers import Input, Dense\n",
    "from keras.models import Model\n",
    "RANDOM_SEED = 42"
   ]
  },
  {
   "cell_type": "code",
   "execution_count": 3,
   "metadata": {
    "collapsed": true
   },
   "outputs": [],
   "source": [
    "import os\n",
    "os.chdir('C:\\\\Users\\\\welcome\\\\Downloads\\\\20170902-batch29-cse7321c-denoising-autoencoder-kirankumarpatro-master')"
   ]
  },
  {
   "cell_type": "code",
   "execution_count": 4,
   "metadata": {
    "collapsed": true
   },
   "outputs": [],
   "source": [
    "# Read the data drom csv file\n",
    "test = np.genfromtxt('testR.csv', delimiter=\",\")\n",
    "train = np.genfromtxt('trainR.csv', delimiter=',')"
   ]
  },
  {
   "cell_type": "code",
   "execution_count": 5,
   "metadata": {},
   "outputs": [
    {
     "name": "stdout",
     "output_type": "stream",
     "text": [
      "(60000L, 784L)\n",
      "(10000L, 784L)\n"
     ]
    }
   ],
   "source": [
    "x_train_1d = train[:,0:784]\n",
    "y_train = train[:,784]\n",
    "\n",
    "x_test_1d = test[:,0:784]\n",
    "y_test = test[:,784]\n",
    "\n",
    "x_train = x_train_1d.astype('float32') / 255.\n",
    "x_test = x_test_1d.astype('float32') / 255.\n",
    "print(x_train.shape)\n",
    "print(x_test.shape)"
   ]
  },
  {
   "cell_type": "code",
   "execution_count": 6,
   "metadata": {
    "collapsed": true
   },
   "outputs": [],
   "source": [
    "noise_factor = 0.5\n",
    "np.random.seed(9001)\n",
    "x_train_noisy = x_train + noise_factor * np.random.normal(loc=0.0, scale=1.0, size=x_train.shape)\n",
    "np.random.seed(9001)\n",
    "x_test_noisy = x_test + noise_factor * np.random.normal(loc=0.0, scale=1.0, size=x_test.shape) \n",
    "\n",
    "# Remember that after normalizing, the range of pixel values is between 0-1? So after adding noise, \n",
    "# we restrict the values to be between 0-1 by clipping them.\n",
    "x_train_noisy = np.clip(x_train_noisy, 0., 1.)\n",
    "x_test_noisy = np.clip(x_test_noisy, 0., 1.)"
   ]
  },
  {
   "cell_type": "code",
   "execution_count": 7,
   "metadata": {
    "collapsed": true
   },
   "outputs": [],
   "source": [
    "# this is the size of our encoded representations\n",
    "encoding_dim = 32  # 32 floats -> compression of factor 24.5, assuming the input is 784 floats\n",
    "\n",
    "# this is our input placeholder\n",
    "input_img = Input(shape=(784,))\n",
    "# \"encoded\" is the encoded representation of the input\n",
    "encoded = Dense(encoding_dim, activation='relu')(input_img)\n",
    "# \"decoded\" is the lossy reconstruction of the input\n",
    "decoded = Dense(784, activation='sigmoid')(encoded)\n",
    "\n",
    "# this model maps an input to its reconstruction\n",
    "autoencoder = Model(input=input_img, output=decoded)"
   ]
  },
  {
   "cell_type": "code",
   "execution_count": 8,
   "metadata": {
    "collapsed": true
   },
   "outputs": [],
   "source": [
    "autoencoder.compile(optimizer='adadelta', loss='binary_crossentropy')"
   ]
  },
  {
   "cell_type": "code",
   "execution_count": 9,
   "metadata": {},
   "outputs": [
    {
     "name": "stdout",
     "output_type": "stream",
     "text": [
      "Train on 60000 samples, validate on 10000 samples\n",
      "Epoch 1/25\n",
      "60000/60000 [==============================] - 9s - loss: 0.3438 - val_loss: 0.3074\n",
      "Epoch 2/25\n",
      "60000/60000 [==============================] - 9s - loss: 0.2671 - val_loss: 0.2980\n",
      "Epoch 3/25\n",
      "60000/60000 [==============================] - 9s - loss: 0.2642 - val_loss: 0.2920\n",
      "Epoch 4/25\n",
      "60000/60000 [==============================] - 9s - loss: 0.2592 - val_loss: 0.2824\n",
      "Epoch 5/25\n",
      "60000/60000 [==============================] - 9s - loss: 0.2494 - val_loss: 0.2696\n",
      "Epoch 6/25\n",
      "60000/60000 [==============================] - 9s - loss: 0.2359 - val_loss: 0.2593\n",
      "Epoch 7/25\n",
      "60000/60000 [==============================] - 9s - loss: 0.2230 - val_loss: 0.2563\n",
      "Epoch 8/25\n",
      "60000/60000 [==============================] - 9s - loss: 0.2127 - val_loss: 0.2577\n",
      "Epoch 9/25\n",
      "60000/60000 [==============================] - 9s - loss: 0.2047 - val_loss: 0.2629\n",
      "Epoch 10/25\n",
      "60000/60000 [==============================] - 9s - loss: 0.1984 - val_loss: 0.2710\n",
      "Epoch 11/25\n",
      "60000/60000 [==============================] - 9s - loss: 0.1933 - val_loss: 0.2811\n",
      "Epoch 12/25\n",
      "60000/60000 [==============================] - 9s - loss: 0.1890 - val_loss: 0.2892\n",
      "Epoch 13/25\n",
      "60000/60000 [==============================] - 9s - loss: 0.1853 - val_loss: 0.2966\n",
      "Epoch 14/25\n",
      "60000/60000 [==============================] - 9s - loss: 0.1819 - val_loss: 0.3045\n",
      "Epoch 15/25\n",
      "60000/60000 [==============================] - 9s - loss: 0.1788 - val_loss: 0.3124\n",
      "Epoch 16/25\n",
      "60000/60000 [==============================] - 9s - loss: 0.1759 - val_loss: 0.3188\n",
      "Epoch 17/25\n",
      "60000/60000 [==============================] - 9s - loss: 0.1732 - val_loss: 0.3232\n",
      "Epoch 18/25\n",
      "60000/60000 [==============================] - 9s - loss: 0.1707 - val_loss: 0.3284\n",
      "Epoch 19/25\n",
      "60000/60000 [==============================] - 9s - loss: 0.1684 - val_loss: 0.3321\n",
      "Epoch 20/25\n",
      "60000/60000 [==============================] - 9s - loss: 0.1663 - val_loss: 0.3371\n",
      "Epoch 21/25\n",
      "60000/60000 [==============================] - 9s - loss: 0.1644 - val_loss: 0.3388\n",
      "Epoch 22/25\n",
      "60000/60000 [==============================] - 9s - loss: 0.1627 - val_loss: 0.3400\n",
      "Epoch 23/25\n",
      "60000/60000 [==============================] - 9s - loss: 0.1611 - val_loss: 0.3427\n",
      "Epoch 24/25\n",
      "60000/60000 [==============================] - 9s - loss: 0.1595 - val_loss: 0.3433\n",
      "Epoch 25/25\n",
      "60000/60000 [==============================] - 9s - loss: 0.1581 - val_loss: 0.3460\n"
     ]
    },
    {
     "data": {
      "text/plain": [
       "<keras.callbacks.History at 0x144ab668>"
      ]
     },
     "execution_count": 9,
     "metadata": {},
     "output_type": "execute_result"
    }
   ],
   "source": [
    "autoencoder.fit(x_train_noisy, x_train,\n",
    "                nb_epoch=25,\n",
    "                batch_size=256,\n",
    "                shuffle=True,\n",
    "                validation_data=(x_test, x_test))"
   ]
  },
  {
   "cell_type": "code",
   "execution_count": 10,
   "metadata": {
    "collapsed": true
   },
   "outputs": [],
   "source": [
    "# this model maps an input to its encoded representation\n",
    "encoder = Model(input=input_img, output=encoded)\n",
    "\n",
    "# create a placeholder for an encoded (32-dimensional) input\n",
    "encoded_input = Input(shape=(encoding_dim,))\n",
    "# retrieve the last layer of the autoencoder model\n",
    "decoder_layer = autoencoder.layers[-1]\n",
    "# create the decoder model\n",
    "decoder = Model(input=encoded_input, output=decoder_layer(encoded_input))"
   ]
  },
  {
   "cell_type": "code",
   "execution_count": 11,
   "metadata": {
    "collapsed": true
   },
   "outputs": [],
   "source": [
    "# encode and decode some digits\n",
    "# note that we take them from the *test* set\n",
    "encoded_imgs = encoder.predict(x_test)\n",
    "decoded_imgs = decoder.predict(encoded_imgs)"
   ]
  },
  {
   "cell_type": "code",
   "execution_count": 12,
   "metadata": {},
   "outputs": [
    {
     "data": {
      "image/png": "[encoded data removed]",
      "text/plain": [
       "<matplotlib.figure.Figure at 0x3d88d7b8>"
      ]
     },
     "metadata": {},
     "output_type": "display_data"
    }
   ],
   "source": [
    "# use Matplotlib (don't ask)\n",
    "import matplotlib.pyplot as plt\n",
    "np.random.seed(80)\n",
    "n = 10  # how many digits we will display\n",
    "s = np.random.choice(range(x_test.shape[0]), 10)\n",
    "plt.figure(figsize=(20, 4))\n",
    "for i in range(1,n+1):\n",
    "    # display original\n",
    "    ax = plt.subplot(3, n, i)\n",
    "    plt.imshow(x_test[s[i-1]].reshape(28, 28))\n",
    "    plt.gray()\n",
    "    ax.get_xaxis().set_visible(False)\n",
    "    ax.get_yaxis().set_visible(False)\n",
    "    \n",
    "    # display noisy data\n",
    "    ax = plt.subplot(3, n, n+i)\n",
    "    plt.imshow(x_test_noisy[s[i-1]].reshape(28, 28))\n",
    "    plt.gray()\n",
    "    ax.get_xaxis().set_visible(False)\n",
    "    ax.get_yaxis().set_visible(False)\n",
    "\n",
    "    # display reconstruction\n",
    "    ax = plt.subplot(3, n, i + n +n)\n",
    "    plt.imshow(decoded_imgs[s[i-1]].reshape(28, 28))\n",
    "    plt.gray()\n",
    "    ax.get_xaxis().set_visible(False)\n",
    "    ax.get_yaxis().set_visible(False)\n",
    "plt.show()\n",
    "\n"
   ]
  },
  {
   "cell_type": "code",
   "execution_count": 13,
   "metadata": {},
   "outputs": [
    {
     "name": "stdout",
     "output_type": "stream",
     "text": [
      "(10000L, 32L)\n",
      "(10000L, 784L)\n"
     ]
    }
   ],
   "source": [
    "# Shape of encoded and decoded images\n",
    "print(encoded_imgs.shape)\n",
    "print(decoded_imgs.shape)"
   ]
  },
  {
   "cell_type": "code",
   "execution_count": 14,
   "metadata": {
    "collapsed": true
   },
   "outputs": [],
   "source": [
    "from keras.utils.np_utils import to_categorical\n",
    "y_train = to_categorical(y_train)\n",
    "y_test = to_categorical(y_test)"
   ]
  },
  {
   "cell_type": "code",
   "execution_count": 15,
   "metadata": {
    "collapsed": true
   },
   "outputs": [],
   "source": [
    "from keras.models import Sequential \n",
    "from keras.layers import Dense, Dropout"
   ]
  },
  {
   "cell_type": "code",
   "execution_count": 16,
   "metadata": {
    "collapsed": true
   },
   "outputs": [],
   "source": [
    "model = Sequential()\n",
    "\n",
    "model.add(Dense(200, input_dim = 784, init='uniform', activation='relu'))\n",
    "model.add(Dropout(0.2))\n",
    "\n",
    "model.add(Dense(100, init='uniform', activation='relu'))\n",
    "model.add(Dropout(0.2))\n",
    "\n",
    "model.add(Dense(10, init='uniform', activation='softmax'))"
   ]
  },
  {
   "cell_type": "code",
   "execution_count": 17,
   "metadata": {
    "collapsed": true
   },
   "outputs": [],
   "source": [
    "model.compile(loss='categorical_crossentropy',\n",
    "              optimizer='Adam',\n",
    "              metrics=['accuracy'])"
   ]
  },
  {
   "cell_type": "code",
   "execution_count": 18,
   "metadata": {
    "scrolled": true
   },
   "outputs": [
    {
     "name": "stdout",
     "output_type": "stream",
     "text": [
      "Epoch 1/10\n",
      "60000/60000 [==============================] - 6s - loss: 0.3790 - acc: 0.8866     - ETA: 0s - loss: 0.\n",
      "Epoch 2/10\n",
      "60000/60000 [==============================] - 7s - loss: 0.1561 - acc: 0.9538     - ETA: 0s - loss: 0.1565 - acc: 0. - ETA: 0s - loss: 0.1562\n",
      "Epoch 3/10\n",
      "60000/60000 [==============================] - 8s - loss: 0.1142 - acc: 0.9657     \n",
      "Epoch 4/10\n",
      "60000/60000 [==============================] - 7s - loss: 0.0936 - acc: 0.9709     \n",
      "Epoch 5/10\n",
      "60000/60000 [==============================] - 7s - loss: 0.0763 - acc: 0.9760     \n",
      "Epoch 6/10\n",
      "60000/60000 [==============================] - 7s - loss: 0.0659 - acc: 0.9787     \n",
      "Epoch 7/10\n",
      "60000/60000 [==============================] - 7s - loss: 0.0587 - acc: 0.9813     \n",
      "Epoch 8/10\n",
      "60000/60000 [==============================] - ETA: 0s - loss: 0.0533 - acc: 0.983 - 7s - loss: 0.0532 - acc: 0.9832     \n",
      "Epoch 9/10\n",
      "60000/60000 [==============================] - 8s - loss: 0.0465 - acc: 0.9850     \n",
      "Epoch 10/10\n",
      "60000/60000 [==============================] - 8s - loss: 0.0434 - acc: 0.9859     - ETA: 0s - los\n"
     ]
    },
    {
     "data": {
      "text/plain": [
       "<keras.callbacks.History at 0x3121c9e8>"
      ]
     },
     "execution_count": 18,
     "metadata": {},
     "output_type": "execute_result"
    }
   ],
   "source": [
    "model.fit(x_train, y_train, batch_size=64, nb_epoch=10)"
   ]
  },
  {
   "cell_type": "code",
   "execution_count": 19,
   "metadata": {},
   "outputs": [
    {
     "name": "stdout",
     "output_type": "stream",
     "text": [
      "10000/10000 [==============================] - 0s     \n",
      "[0.063219373515178451, 0.98140000000000005]\n"
     ]
    }
   ],
   "source": [
    "score = model.evaluate(x_test, y_test)\n",
    "print(score)"
   ]
  },
  {
   "cell_type": "code",
   "execution_count": 20,
   "metadata": {
    "collapsed": true
   },
   "outputs": [],
   "source": [
    "x_train_encoded = encoder.predict(x_train)\n",
    "x_test_encoded = encoder.predict(x_test)"
   ]
  },
  {
   "cell_type": "code",
   "execution_count": 21,
   "metadata": {
    "collapsed": true
   },
   "outputs": [],
   "source": [
    "model2 = Sequential()\n",
    "\n",
    "model2.add(Dense(16, input_dim = 32, init='uniform', activation='relu'))\n",
    "model2.add(Dropout(0.2))\n",
    "\n",
    "model2.add(Dense(10, init='uniform', activation='softmax'))"
   ]
  },
  {
   "cell_type": "code",
   "execution_count": 22,
   "metadata": {
    "collapsed": true
   },
   "outputs": [],
   "source": [
    "model2.compile(loss='categorical_crossentropy',\n",
    "              optimizer='Adam',\n",
    "              metrics=['accuracy'])"
   ]
  },
  {
   "cell_type": "code",
   "execution_count": 23,
   "metadata": {
    "scrolled": true
   },
   "outputs": [
    {
     "name": "stdout",
     "output_type": "stream",
     "text": [
      "Epoch 1/10\n",
      "60000/60000 [==============================] - 0s - loss: 1.0605 - acc: 0.6484     \n",
      "Epoch 2/10\n",
      "60000/60000 [==============================] - 0s - loss: 0.7437 - acc: 0.7561     \n",
      "Epoch 3/10\n",
      "60000/60000 [==============================] - 0s - loss: 0.6783 - acc: 0.7777     \n",
      "Epoch 4/10\n",
      "60000/60000 [==============================] - 1s - loss: 0.6473 - acc: 0.7914     \n",
      "Epoch 5/10\n",
      "60000/60000 [==============================] - 0s - loss: 0.6283 - acc: 0.7967     \n",
      "Epoch 6/10\n",
      "60000/60000 [==============================] - 0s - loss: 0.6161 - acc: 0.8004     \n",
      "Epoch 7/10\n",
      "60000/60000 [==============================] - 1s - loss: 0.6061 - acc: 0.8043     \n",
      "Epoch 8/10\n",
      "60000/60000 [==============================] - 1s - loss: 0.5993 - acc: 0.8056     \n",
      "Epoch 9/10\n",
      "60000/60000 [==============================] - 1s - loss: 0.5970 - acc: 0.8083     \n",
      "Epoch 10/10\n",
      "60000/60000 [==============================] - 1s - loss: 0.5904 - acc: 0.8088     \n"
     ]
    },
    {
     "data": {
      "text/plain": [
       "<keras.callbacks.History at 0xa32f5438>"
      ]
     },
     "execution_count": 23,
     "metadata": {},
     "output_type": "execute_result"
    }
   ],
   "source": [
    "model2.fit(x_train_encoded, y_train, batch_size=64, nb_epoch=10)"
   ]
  },
  {
   "cell_type": "code",
   "execution_count": 24,
   "metadata": {},
   "outputs": [
    {
     "name": "stdout",
     "output_type": "stream",
     "text": [
      " 9600/10000 [===========================>..] - ETA: 0s[0.38150703916549683, 0.8901]\n"
     ]
    }
   ],
   "source": [
    "score2 = model2.evaluate(x_test_encoded, y_test)\n",
    "print(score2)"
   ]
  },
  {
   "cell_type": "code",
   "execution_count": null,
   "metadata": {
    "collapsed": true
   },
   "outputs": [],
   "source": []
  }
 ],
 "metadata": {
  "kernelspec": {
   "display_name": "Python 2",
   "language": "python",
   "name": "python2"
  },
  "language_info": {
   "codemirror_mode": {
    "name": "ipython",
    "version": 2
   },
   "file_extension": ".py",
   "mimetype": "text/x-python",
   "name": "python",
   "nbconvert_exporter": "python",
   "pygments_lexer": "ipython2",
   "version": "2.7.13"
  }
 },
 "nbformat": 4,
 "nbformat_minor": 2
}
